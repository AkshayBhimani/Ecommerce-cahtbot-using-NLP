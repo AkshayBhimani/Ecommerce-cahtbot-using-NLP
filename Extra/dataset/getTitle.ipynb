{
 "metadata": {
  "language_info": {
   "codemirror_mode": {
    "name": "ipython",
    "version": 3
   },
   "file_extension": ".py",
   "mimetype": "text/x-python",
   "name": "python",
   "nbconvert_exporter": "python",
   "pygments_lexer": "ipython3",
   "version": "3.8.5-final"
  },
  "orig_nbformat": 2,
  "kernelspec": {
   "name": "python3",
   "display_name": "Python 3.8.5 64-bit",
   "metadata": {
    "interpreter": {
     "hash": "df0893f56f349688326838aaeea0de204df53a132722cbd565e54b24a8fec5f6"
    }
   }
  }
 },
 "nbformat": 4,
 "nbformat_minor": 2,
 "cells": [
  {
   "cell_type": "code",
   "execution_count": 2,
   "metadata": {},
   "outputs": [
    {
     "output_type": "stream",
     "name": "stdout",
     "text": [
      "Access granted\n"
     ]
    }
   ],
   "source": [
    "with open('./elec1.txt') as fob:\n",
    "    allowed_access = any(line.startswith('Title=') for line in fob)\n",
    "if allowed_access:\n",
    "    print('Access granted')\n",
    "else:\n",
    "    print('Access denied')"
   ]
  },
  {
   "source": [
    "file_object = open('./electricProductNames.txt', 'a')\n",
    "\n",
    "with open(\"./electronicsData.txt\", \"r\") as file: \n",
    "    for line in file: \n",
    "        if(line[0:6]==\"Title=\"):\n",
    "            x = line[6:-1] + ',\\n'\n",
    "            file_object.write(x)"
   ],
   "cell_type": "code",
   "metadata": {},
   "execution_count": 24,
   "outputs": []
  },
  {
   "cell_type": "code",
   "execution_count": null,
   "metadata": {},
   "outputs": [],
   "source": []
  }
 ]
}